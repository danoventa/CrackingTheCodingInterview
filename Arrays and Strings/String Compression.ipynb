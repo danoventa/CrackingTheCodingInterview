{
 "cells": [
  {
   "cell_type": "code",
   "execution_count": 13,
   "metadata": {
    "collapsed": true
   },
   "outputs": [],
   "source": [
    "def stringCompression(word):\n",
    "    last_letter = \"\"\n",
    "    compressed_word = \"\"\n",
    "    counter = 0\n",
    "    \n",
    "    for letter in word:\n",
    "        if letter == last_letter:\n",
    "            counter += 1\n",
    "        else:\n",
    "            if counter != 0:\n",
    "                compressed_word += last_letter + str(counter)\n",
    "                \n",
    "            counter = 1\n",
    "            last_letter = letter\n",
    "        \n",
    "    return_word = compressed_word + last_letter + str(counter)\n",
    "    if len(return_word) < len(word):\n",
    "        return return_word\n",
    "    return word"
   ]
  },
  {
   "cell_type": "code",
   "execution_count": 21,
   "metadata": {
    "collapsed": false
   },
   "outputs": [
    {
     "data": {
      "text/plain": [
       "'a3s4j3h3d1w1m1f1'"
      ]
     },
     "execution_count": 21,
     "metadata": {},
     "output_type": "execute_result"
    }
   ],
   "source": [
    "# Should compress\n",
    "stringCompression(\"aaassssjjjhhhdwmf\")"
   ]
  },
  {
   "cell_type": "code",
   "execution_count": 22,
   "metadata": {
    "collapsed": false
   },
   "outputs": [
    {
     "data": {
      "text/plain": [
       "'aaassssjjjhhhwasaddwmf'"
      ]
     },
     "execution_count": 22,
     "metadata": {},
     "output_type": "execute_result"
    }
   ],
   "source": [
    "# should return original\n",
    "stringCompression(\"aaassssjjjhhhwasaddwmf\")"
   ]
  },
  {
   "cell_type": "code",
   "execution_count": null,
   "metadata": {
    "collapsed": true
   },
   "outputs": [],
   "source": []
  }
 ],
 "metadata": {
  "kernelspec": {
   "display_name": "Python [Root]",
   "language": "python",
   "name": "Python [Root]"
  },
  "language_info": {
   "codemirror_mode": {
    "name": "ipython",
    "version": 3
   },
   "file_extension": ".py",
   "mimetype": "text/x-python",
   "name": "python",
   "nbconvert_exporter": "python",
   "pygments_lexer": "ipython3",
   "version": "3.5.2"
  }
 },
 "nbformat": 4,
 "nbformat_minor": 0
}
