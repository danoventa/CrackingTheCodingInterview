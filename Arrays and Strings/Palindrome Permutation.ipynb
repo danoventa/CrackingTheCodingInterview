{
 "cells": [
  {
   "cell_type": "code",
   "execution_count": 1,
   "metadata": {
    "collapsed": true
   },
   "outputs": [],
   "source": [
    "from collections import defaultdict"
   ]
  },
  {
   "cell_type": "code",
   "execution_count": 18,
   "metadata": {
    "collapsed": false
   },
   "outputs": [],
   "source": [
    "# create one without concern for the white spaces. \n",
    "\n",
    "def get_palindromutation(a_string):\n",
    "    # length, may be useful, may be not\n",
    "    a_len = len(a_string)\n",
    "    \n",
    "    a_set = set(list(a_string))\n",
    "    \n",
    "    # dictionaries for counting\n",
    "    a_dict = defaultdict(int)\n",
    "    b_dict = defaultdict(int)\n",
    "    \n",
    "    for letter in a_string:\n",
    "        a_dict[letter] += 1\n",
    "      \n",
    "    odds = 0\n",
    "    \n",
    "    for letter in a_set:\n",
    "        \n",
    "        if a_dict[letter] %2 == 1:\n",
    "        \n",
    "            if odds < 1:\n",
    "                odds += 1\n",
    "                a_dict[letter] -= 1\n",
    "                an_odd = letter\n",
    "                b_dict[letter] = a_dict[letter]//2\n",
    "            else:\n",
    "                return []\n",
    "        \n",
    "        else:\n",
    "            \n",
    "            b_dict[letter] = a_dict[letter]//2\n",
    "            \n",
    "    print(an_odd)\n",
    "    \n",
    "    \n",
    "    \n",
    "    \n",
    "    return b_dict\n",
    "    \n",
    "    "
   ]
  },
  {
   "cell_type": "code",
   "execution_count": 19,
   "metadata": {
    "collapsed": false
   },
   "outputs": [
    {
     "name": "stdout",
     "output_type": "stream",
     "text": [
      "t\n",
      "defaultdict(<class 'int'>, {'t': 1, 'c': 1, 'a': 1})\n"
     ]
    }
   ],
   "source": [
    "print(get_palindromutation(\"tactcat\"))"
   ]
  },
  {
   "cell_type": "code",
   "execution_count": null,
   "metadata": {
    "collapsed": true
   },
   "outputs": [],
   "source": []
  }
 ],
 "metadata": {
  "kernelspec": {
   "display_name": "Python [Root]",
   "language": "python",
   "name": "Python [Root]"
  },
  "language_info": {
   "codemirror_mode": {
    "name": "ipython",
    "version": 3
   },
   "file_extension": ".py",
   "mimetype": "text/x-python",
   "name": "python",
   "nbconvert_exporter": "python",
   "pygments_lexer": "ipython3",
   "version": "3.5.2"
  }
 },
 "nbformat": 4,
 "nbformat_minor": 0
}
