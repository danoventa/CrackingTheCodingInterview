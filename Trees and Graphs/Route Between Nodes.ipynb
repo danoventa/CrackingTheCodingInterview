{
 "cells": [
  {
   "cell_type": "code",
   "execution_count": 9,
   "metadata": {
    "collapsed": true
   },
   "outputs": [],
   "source": [
    "# directed graph, find route between two nodes. \n",
    "\n",
    "class Node:\n",
    "    \n",
    "    def __init__(self, name = 'root', value = None, children = [], visited = False):\n",
    "        self.name = name\n",
    "        self.value = value\n",
    "        self.visited = visited\n",
    "        self.children = children"
   ]
  },
  {
   "cell_type": "code",
   "execution_count": 10,
   "metadata": {
    "collapsed": true
   },
   "outputs": [],
   "source": [
    "def pathExists(start, end):\n",
    "    if start == end:\n",
    "        return True\n",
    "    \n",
    "    start.visited = True\n",
    "    queue = []\n",
    "    \n",
    "    queue.append(start)\n",
    "    \n",
    "    while(queue != []):\n",
    "        r = queue.pop(0)\n",
    "        for n in r.children:\n",
    "            if n == end:\n",
    "                return True\n",
    "            \n",
    "            if n.visited == False:\n",
    "                n.visited = True\n",
    "                queue.append(n)\n",
    "                \n",
    "    return False"
   ]
  },
  {
   "cell_type": "code",
   "execution_count": 33,
   "metadata": {
    "collapsed": false
   },
   "outputs": [],
   "source": [
    "i = Node(\"five\", 5, [e])\n",
    "h = Node(\"four\", 4, [i])\n",
    "g = Node(\"three\", 3, [h])\n",
    "f = Node(\"six\", -1, [a])\n",
    "\n",
    "e = Node(\"five\", 5, [g])\n",
    "d = Node(\"four\", 4, [e])\n",
    "c = Node(\"three\", 3, [e, d])\n",
    "b = Node(\"two\", 1, [f])\n",
    "\n",
    "\n",
    "a = Node(\"root\", 2, [c, b])"
   ]
  },
  {
   "cell_type": "code",
   "execution_count": 34,
   "metadata": {
    "collapsed": false
   },
   "outputs": [
    {
     "name": "stdout",
     "output_type": "stream",
     "text": [
      "The slowest run took 12.83 times longer than the fastest. This could mean that an intermediate result is being cached.\n",
      "1000000 loops, best of 3: 882 ns per loop\n"
     ]
    }
   ],
   "source": [
    "%timeit pathExists(a, i)"
   ]
  },
  {
   "cell_type": "code",
   "execution_count": 35,
   "metadata": {
    "collapsed": true
   },
   "outputs": [],
   "source": [
    "def biPathExists(one, two):\n",
    "    if one == two:\n",
    "        return True\n",
    "    \n",
    "    queue_one = []\n",
    "    queue_two = []\n",
    "    \n",
    "    one.visited = True\n",
    "    two.visited = True\n",
    "    \n",
    "    queue_one.append(one)\n",
    "    queue_two.append(two)\n",
    "    set_one = set()\n",
    "    \n",
    "    while queue_one != [] and queue_two != []:\n",
    "        r_one = queue_one.pop(0)\n",
    "        r_two = queue_two.pop(0)\n",
    "        \n",
    "        for n in r_one.children:\n",
    "            if n.visited == False:\n",
    "                n.visited == True\n",
    "                queue_one.append(n)\n",
    "                set_one.add(n)\n",
    "         \n",
    "        \n",
    "        for n in r_two.children:\n",
    "            if n in set_one:\n",
    "                return True\n",
    "            \n",
    "            if n.visited == False:\n",
    "                n.visited == True\n",
    "                queue_two.append(n)\n",
    "                \n",
    "        \n",
    "    return False\n",
    "            "
   ]
  },
  {
   "cell_type": "code",
   "execution_count": 36,
   "metadata": {
    "collapsed": false
   },
   "outputs": [
    {
     "name": "stdout",
     "output_type": "stream",
     "text": [
      "The slowest run took 5.53 times longer than the fastest. This could mean that an intermediate result is being cached.\n",
      "100000 loops, best of 3: 1.87 µs per loop\n"
     ]
    }
   ],
   "source": [
    "%timeit biPathExists(a, i)\n"
   ]
  },
  {
   "cell_type": "code",
   "execution_count": null,
   "metadata": {
    "collapsed": true
   },
   "outputs": [],
   "source": []
  }
 ],
 "metadata": {
  "anaconda-cloud": {},
  "kernelspec": {
   "display_name": "Python [conda root]",
   "language": "python",
   "name": "conda-root-py"
  },
  "language_info": {
   "codemirror_mode": {
    "name": "ipython",
    "version": 3
   },
   "file_extension": ".py",
   "mimetype": "text/x-python",
   "name": "python",
   "nbconvert_exporter": "python",
   "pygments_lexer": "ipython3",
   "version": "3.5.2"
  }
 },
 "nbformat": 4,
 "nbformat_minor": 1
}
