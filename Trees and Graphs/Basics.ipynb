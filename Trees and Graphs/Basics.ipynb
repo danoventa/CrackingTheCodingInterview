{
 "cells": [
  {
   "cell_type": "code",
   "execution_count": 11,
   "metadata": {
    "collapsed": true
   },
   "outputs": [],
   "source": [
    "class BNode:\n",
    "    \n",
    "    def __init__(self, value = None, left = None, right = None, children = []):\n",
    "        self.value = value\n",
    "        self.visited = False\n",
    "        self.left = left\n",
    "        self.right = right\n",
    "        self.children = children\n",
    "        \n",
    "class BTree:\n",
    "    \n",
    "    def __init__(self):\n",
    "        self.root = BNode()\n",
    "        self.head = self.root\n",
    "    \n",
    "def visit(node):\n",
    "    node.visited = True\n",
    "\n",
    "def inOrder(node):\n",
    "    if node:\n",
    "        inOrder(node.left)\n",
    "        print(node.value)\n",
    "        inOrder(node.right)\n",
    "        \n",
    "def preOrder(node):\n",
    "    if node:\n",
    "        print(node.value)\n",
    "        preOrder(node.left)\n",
    "        preOrder(node.right)\n",
    "        \n",
    "def postOrder(node):\n",
    "    if node:\n",
    "        postOrder(node.left)\n",
    "        postOrder(node.right)\n",
    "        print(node.value)"
   ]
  },
  {
   "cell_type": "code",
   "execution_count": 3,
   "metadata": {
    "collapsed": false
   },
   "outputs": [],
   "source": [
    "btree = BTree()\n",
    "btree.root.left = BNode(10)\n",
    "btree.root.right = BNode(20)"
   ]
  },
  {
   "cell_type": "code",
   "execution_count": 10,
   "metadata": {
    "collapsed": false
   },
   "outputs": [
    {
     "name": "stdout",
     "output_type": "stream",
     "text": [
      "10\n",
      "None\n",
      "20\n"
     ]
    }
   ],
   "source": [
    "inOrder(btree.root)"
   ]
  },
  {
   "cell_type": "code",
   "execution_count": 12,
   "metadata": {
    "collapsed": true
   },
   "outputs": [],
   "source": [
    "# Tries are prefix trees... \n",
    "# Each path may be a complete word.\n",
    "# Can be used to quickly look up word prefixes quickly.\n",
    "# Takes O of K same as a hash table. \n",
    "### Look up tries, more info needed: https://en.wikipedia.org/wiki/Trie\n"
   ]
  },
  {
   "cell_type": "code",
   "execution_count": 14,
   "metadata": {
    "collapsed": true
   },
   "outputs": [],
   "source": [
    "# adjacency list (one of two common representations of a graph: https://en.wikipedia.org/wiki/Adjacency_list\n",
    "class Graph:\n",
    "    \n",
    "    def __init__(self, nodes = []):\n",
    "        self.nodes = nodes\n",
    "        \n",
    "class Node:\n",
    "    \n",
    "    def __init__(self, name = 'root', children = []):\n",
    "        self.name = name\n",
    "        self.chilren = children"
   ]
  },
  {
   "cell_type": "code",
   "execution_count": 15,
   "metadata": {
    "collapsed": true
   },
   "outputs": [],
   "source": [
    "# adjacncy matrices is the second... a boolean matrix: https://en.wikipedia.org/wiki/Adjacency_matrix\n",
    "# breadth first searcon on an adjacency matrix is less efficient, compaered to an adjacency list. "
   ]
  },
  {
   "cell_type": "code",
   "execution_count": 18,
   "metadata": {
    "collapsed": false
   },
   "outputs": [],
   "source": [
    "# Graph Search \n",
    "    # http://stackoverflow.com/questions/10680180/graph-search-vs-tree-search\n",
    "    # https://en.wikipedia.org/wiki/Facebook_Graph_Search\n",
    "    # https://en.wikipedia.org/wiki/Graph_traversal\n",
    "\n",
    "# Two most common are:\n",
    "    # Breadth first: https://en.wikipedia.org/wiki/Breadth-first_search\n",
    "    # Using a queue is key to BST. \n",
    "    \n",
    "def bfs(root):\n",
    "    queue = [] # list will suffice as queue for this\n",
    "    root.visited()\n",
    "    queue.insert(0, root)\n",
    "    \n",
    "    while queue.count() > 0:\n",
    "        root = queue.pop()\n",
    "        visit(root)\n",
    "        \n",
    "        for node in root.children:\n",
    "            if node.visited == False:\n",
    "                visit(node)\n",
    "                queue.insert(0, node)\n",
    "    \n",
    "            \n",
    "    # Depth first: https://en.wikipedia.org/wiki/Depth-first_search\n",
    "    \n",
    "def dfs(root):\n",
    "    if not root:\n",
    "        return None\n",
    "    visit(root)\n",
    "    for node in root.children:\n",
    "        if node.visited == False:\n",
    "            dfs(node)"
   ]
  },
  {
   "cell_type": "code",
   "execution_count": null,
   "metadata": {
    "collapsed": true
   },
   "outputs": [],
   "source": []
  }
 ],
 "metadata": {
  "anaconda-cloud": {},
  "kernelspec": {
   "display_name": "Python [conda root]",
   "language": "python",
   "name": "conda-root-py"
  },
  "language_info": {
   "codemirror_mode": {
    "name": "ipython",
    "version": 3
   },
   "file_extension": ".py",
   "mimetype": "text/x-python",
   "name": "python",
   "nbconvert_exporter": "python",
   "pygments_lexer": "ipython3",
   "version": "3.5.2"
  }
 },
 "nbformat": 4,
 "nbformat_minor": 1
}
