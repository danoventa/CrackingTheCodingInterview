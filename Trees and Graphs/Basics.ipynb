{
 "cells": [
  {
   "cell_type": "code",
   "execution_count": 11,
   "metadata": {
    "collapsed": true
   },
   "outputs": [],
   "source": [
    "class BNode:\n",
    "    \n",
    "    def __init__(self, value = None, left = None, right = None):\n",
    "        self.value = value\n",
    "        self.visited = False\n",
    "        self.left = left\n",
    "        self.right = right\n",
    "        \n",
    "class BTree:\n",
    "    \n",
    "    def __init__(self):\n",
    "        self.root = BNode()\n",
    "        self.head = self.root\n",
    "    \n",
    "def visit(node):\n",
    "    node.visited = True\n",
    "\n",
    "def inOrder(node):\n",
    "    if node:\n",
    "        inOrder(node.left)\n",
    "        print(node.value)\n",
    "        inOrder(node.right)\n",
    "        \n",
    "def preOrder(node):\n",
    "    if node:\n",
    "        print(node.value)\n",
    "        preOrder(node.left)\n",
    "        preOrder(node.right)\n",
    "        \n",
    "def postOrder(node):\n",
    "    if node:\n",
    "        postOrder(node.left)\n",
    "        postOrder(node.right)\n",
    "        print(node.value)"
   ]
  },
  {
   "cell_type": "code",
   "execution_count": 3,
   "metadata": {
    "collapsed": false
   },
   "outputs": [],
   "source": [
    "btree = BTree()\n",
    "btree.root.left = BNode(10)\n",
    "btree.root.right = BNode(20)"
   ]
  },
  {
   "cell_type": "code",
   "execution_count": 10,
   "metadata": {
    "collapsed": false
   },
   "outputs": [
    {
     "name": "stdout",
     "output_type": "stream",
     "text": [
      "10\n",
      "None\n",
      "20\n"
     ]
    }
   ],
   "source": [
    "inOrder(btree.root)"
   ]
  },
  {
   "cell_type": "code",
   "execution_count": null,
   "metadata": {
    "collapsed": true
   },
   "outputs": [],
   "source": [
    "# Tries are prefix trees... \n",
    "# Each path may be a complete word.\n",
    "# Can be used to quickly look up word prefixes quickly.\n",
    "# Takes O of K same as a hash table. \n",
    "\n"
   ]
  }
 ],
 "metadata": {
  "anaconda-cloud": {},
  "kernelspec": {
   "display_name": "Python [conda root]",
   "language": "python",
   "name": "conda-root-py"
  },
  "language_info": {
   "codemirror_mode": {
    "name": "ipython",
    "version": 3
   },
   "file_extension": ".py",
   "mimetype": "text/x-python",
   "name": "python",
   "nbconvert_exporter": "python",
   "pygments_lexer": "ipython3",
   "version": "3.5.2"
  }
 },
 "nbformat": 4,
 "nbformat_minor": 1
}
