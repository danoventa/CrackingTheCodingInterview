{
 "cells": [
  {
   "cell_type": "code",
   "execution_count": 24,
   "metadata": {
    "collapsed": true
   },
   "outputs": [],
   "source": [
    "class Node():\n",
    "    def __init__(self, data):\n",
    "        self.data = data\n",
    "        self.next = None\n",
    "        \n",
    "    def print_nodes(self):\n",
    "        no = self\n",
    "        \n",
    "        while no:\n",
    "            print(no.data)\n",
    "            no = no.next"
   ]
  },
  {
   "cell_type": "code",
   "execution_count": 25,
   "metadata": {
    "collapsed": false
   },
   "outputs": [],
   "source": [
    "# helper class \n",
    "class Result:\n",
    "    \n",
    "    def __init__(self, node, res):\n",
    "        self.node = node\n",
    "        self.result = res\n",
    "\n",
    "# palindrome main function        \n",
    "def isPalindrome(head):\n",
    "    length = lengthOfList(head)\n",
    "    res = isPalindromeRecurse(head, length)\n",
    "    return res.result\n",
    "\n",
    "\n",
    "# recursive helper function\n",
    "def isPalindromeRecurse(head, length):\n",
    "    \n",
    "    if head == None or length <= 0:\n",
    "        return Result(head, True)\n",
    "    elif length == 1:\n",
    "        res = Result(head, True)\n",
    "        return res\n",
    "\n",
    "    res = isPalindromeRecurse(head.next, length - 2)\n",
    "    \n",
    "    if(not res.result or res.node == None):\n",
    "        return res\n",
    "    \n",
    "    if(head.data != res.node.data):\n",
    "        res.result = res.node.next.data == head.data\n",
    "    else:\n",
    "        res.result = head.data == res.node.data\n",
    "    \n",
    "    res.node = res.node.next\n",
    "    \n",
    "    return res\n",
    "\n",
    "# get length of list\n",
    "def lengthOfList(node):\n",
    "    size = 0\n",
    "    while node:\n",
    "        size += 1\n",
    "        node = node.next\n",
    "        \n",
    "    return size"
   ]
  },
  {
   "cell_type": "code",
   "execution_count": null,
   "metadata": {
    "collapsed": true
   },
   "outputs": [],
   "source": []
  },
  {
   "cell_type": "code",
   "execution_count": 30,
   "metadata": {
    "collapsed": false
   },
   "outputs": [],
   "source": [
    "a = Node(1)\n",
    "\n",
    "b = Node(2)\n",
    "a.next = b\n",
    "\n",
    "c = Node(3)\n",
    "b.next = c\n",
    "\n",
    "d = Node(4)\n",
    "c.next = d\n",
    "e = Node(3)\n",
    "d.next = e\n",
    "\n",
    "f = Node(2)\n",
    "e.next = f\n",
    "\n",
    "g = Node(1)\n",
    "f.next = g"
   ]
  },
  {
   "cell_type": "code",
   "execution_count": 31,
   "metadata": {
    "collapsed": false
   },
   "outputs": [
    {
     "name": "stdout",
     "output_type": "stream",
     "text": [
      "False\n"
     ]
    }
   ],
   "source": [
    "print(isPalindrome(a))"
   ]
  },
  {
   "cell_type": "code",
   "execution_count": null,
   "metadata": {
    "collapsed": true
   },
   "outputs": [],
   "source": []
  },
  {
   "cell_type": "code",
   "execution_count": null,
   "metadata": {
    "collapsed": true
   },
   "outputs": [],
   "source": []
  }
 ],
 "metadata": {
  "anaconda-cloud": {},
  "kernelspec": {
   "display_name": "Python [conda root]",
   "language": "python",
   "name": "conda-root-py"
  },
  "language_info": {
   "codemirror_mode": {
    "name": "ipython",
    "version": 3
   },
   "file_extension": ".py",
   "mimetype": "text/x-python",
   "name": "python",
   "nbconvert_exporter": "python",
   "pygments_lexer": "ipython3",
   "version": "3.5.2"
  }
 },
 "nbformat": 4,
 "nbformat_minor": 1
}
