{
 "cells": [
  {
   "cell_type": "code",
   "execution_count": 6,
   "metadata": {
    "collapsed": true
   },
   "outputs": [],
   "source": [
    "class Node():\n",
    "    def __init__(self, data):\n",
    "        self.data = data\n",
    "        self.next = None\n",
    "        \n",
    "    def print_nodes(self):\n",
    "        no = self\n",
    "        \n",
    "        while no:\n",
    "            print(no.data)\n",
    "            no = no.next"
   ]
  },
  {
   "cell_type": "code",
   "execution_count": 15,
   "metadata": {
    "collapsed": true
   },
   "outputs": [],
   "source": [
    "def partition(head, k):\n",
    " \n",
    "    big, little = [Node(0) for _ in range(2)]\n",
    "    new_h, join_h = little, big\n",
    "    \n",
    "    n = head\n",
    "    \n",
    "    while n:\n",
    "        if n.data >= k:\n",
    "            big.next = n\n",
    "            big = big.next\n",
    "        else:\n",
    "            little.next = n\n",
    "            little = little.next\n",
    "        n = n.next\n",
    "    \n",
    "    if new_h.next and join_h.next:\n",
    "        little.next = join_h.next\n",
    "        return new_h.next\n",
    "    elif new_h.next and not join_h.next:\n",
    "        return new_h.next\n",
    "    elif not new_h.next and join_h.next:\n",
    "        return join_h.next\n",
    "    else:\n",
    "        print(\"NO NODES IN LINKED LIST PROVIDED\")\n",
    "    return None\n",
    "            "
   ]
  },
  {
   "cell_type": "code",
   "execution_count": 21,
   "metadata": {
    "collapsed": false
   },
   "outputs": [],
   "source": [
    "a = Node(1)\n",
    "\n",
    "b = Node(5)\n",
    "a.next = b\n",
    "\n",
    "c = Node(3)\n",
    "b.next = c\n",
    "\n",
    "d = Node(4)\n",
    "c.next = d\n",
    "\n",
    "e = Node(5)\n",
    "d.next = e\n",
    "\n",
    "f = Node(3)\n",
    "e.next = f\n",
    "\n",
    "g = Node(7)\n",
    "f.next = g"
   ]
  },
  {
   "cell_type": "code",
   "execution_count": 22,
   "metadata": {
    "collapsed": false
   },
   "outputs": [
    {
     "name": "stdout",
     "output_type": "stream",
     "text": [
      "1\n",
      "5\n",
      "3\n",
      "4\n",
      "5\n",
      "3\n",
      "7\n"
     ]
    }
   ],
   "source": [
    "a.print_nodes()"
   ]
  },
  {
   "cell_type": "code",
   "execution_count": 23,
   "metadata": {
    "collapsed": false
   },
   "outputs": [
    {
     "name": "stdout",
     "output_type": "stream",
     "text": [
      "1\n",
      "3\n",
      "4\n",
      "3\n",
      "5\n",
      "5\n",
      "7\n"
     ]
    }
   ],
   "source": [
    "partition(a, 5).print_nodes()"
   ]
  },
  {
   "cell_type": "code",
   "execution_count": null,
   "metadata": {
    "collapsed": true
   },
   "outputs": [],
   "source": []
  }
 ],
 "metadata": {
  "anaconda-cloud": {},
  "kernelspec": {
   "display_name": "Python [conda root]",
   "language": "python",
   "name": "conda-root-py"
  },
  "language_info": {
   "codemirror_mode": {
    "name": "ipython",
    "version": 3
   },
   "file_extension": ".py",
   "mimetype": "text/x-python",
   "name": "python",
   "nbconvert_exporter": "python",
   "pygments_lexer": "ipython3",
   "version": "3.5.2"
  }
 },
 "nbformat": 4,
 "nbformat_minor": 1
}
