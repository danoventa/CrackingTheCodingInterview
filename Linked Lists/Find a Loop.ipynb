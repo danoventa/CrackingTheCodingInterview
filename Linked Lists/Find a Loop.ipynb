{
 "cells": [
  {
   "cell_type": "code",
   "execution_count": 1,
   "metadata": {
    "collapsed": true
   },
   "outputs": [],
   "source": [
    "class Node:\n",
    "    def __init__(self, data):\n",
    "        self.next = None\n",
    "        self.data = data\n",
    "        \n",
    "    def print_nodes(self):\n",
    "        node = self\n",
    "        while node:\n",
    "            print(node.data)\n",
    "            node = node.next"
   ]
  },
  {
   "cell_type": "code",
   "execution_count": 5,
   "metadata": {
    "collapsed": true
   },
   "outputs": [],
   "source": [
    "a = Node(1)\n",
    "\n",
    "b = Node(2)\n",
    "a.next = b\n",
    "\n",
    "c = Node(3)\n",
    "b.next = c\n",
    "\n",
    "d = Node(4)\n",
    "c.next = d\n",
    "e = Node(3)\n",
    "d.next = e\n",
    "\n",
    "f = Node(2)\n",
    "e.next = f\n",
    "\n",
    "g = Node(1)\n",
    "f.next = g\n",
    "\n",
    "h = Node(1)\n",
    "g.next = h\n"
   ]
  },
  {
   "cell_type": "code",
   "execution_count": 3,
   "metadata": {
    "collapsed": true
   },
   "outputs": [],
   "source": [
    "def is_loop(head):\n",
    "    \n",
    "    s = set()\n",
    "    \n",
    "    while head:\n",
    "        if head in s:\n",
    "            return True\n",
    "        s.add(head)\n",
    "        head = head.next\n",
    "        \n",
    "    return False"
   ]
  },
  {
   "cell_type": "code",
   "execution_count": 6,
   "metadata": {
    "collapsed": false
   },
   "outputs": [
    {
     "data": {
      "text/plain": [
       "False"
      ]
     },
     "execution_count": 6,
     "metadata": {},
     "output_type": "execute_result"
    }
   ],
   "source": [
    "is_loop(a)"
   ]
  },
  {
   "cell_type": "code",
   "execution_count": null,
   "metadata": {
    "collapsed": true
   },
   "outputs": [],
   "source": []
  }
 ],
 "metadata": {
  "anaconda-cloud": {},
  "kernelspec": {
   "display_name": "Python [conda root]",
   "language": "python",
   "name": "conda-root-py"
  },
  "language_info": {
   "codemirror_mode": {
    "name": "ipython",
    "version": 3
   },
   "file_extension": ".py",
   "mimetype": "text/x-python",
   "name": "python",
   "nbconvert_exporter": "python",
   "pygments_lexer": "ipython3",
   "version": "3.5.2"
  }
 },
 "nbformat": 4,
 "nbformat_minor": 1
}
