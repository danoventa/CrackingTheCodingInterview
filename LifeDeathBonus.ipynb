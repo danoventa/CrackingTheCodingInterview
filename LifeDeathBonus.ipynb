{
 "cells": [
  {
   "cell_type": "code",
   "execution_count": 1,
   "metadata": {
    "collapsed": true
   },
   "outputs": [],
   "source": [
    "class Person:\n",
    "    def __init__(self, birth_year, death_year):\n",
    "        self.birth_year = birth_year\n",
    "        self.death_year = death_year"
   ]
  },
  {
   "cell_type": "code",
   "execution_count": 3,
   "metadata": {
    "collapsed": true
   },
   "outputs": [],
   "source": [
    "a = Person(1970, 2020)\n",
    "b = Person(1960, 2030)\n",
    "c = Person(1950, 2015)\n",
    "d = Person(1910, 2000) \n",
    "e = Person(1920, 1980)\n",
    "f = Person(1980, 2040)\n",
    "g = Person(1975, 2010)\n",
    "\n",
    "people = [a, b, c, d, e, f, g]"
   ]
  },
  {
   "cell_type": "code",
   "execution_count": 15,
   "metadata": {
    "collapsed": false
   },
   "outputs": [
    {
     "name": "stdout",
     "output_type": "stream",
     "text": [
      "Most people are alive in 1980 With a total of 7 people alive.\n"
     ]
    }
   ],
   "source": [
    "from collections import defaultdict\n",
    "\n",
    "year_dict = defaultdict(int)\n",
    "max_life = 0\n",
    "max_life_year = 0\n",
    "\n",
    "for person in people:\n",
    "    lifespan = person.death_year - person.birth_year + 1\n",
    "    \n",
    "    for year in range(lifespan):\n",
    "        year_dict[year + person.birth_year] += 1\n",
    "\n",
    "        if max_life < year_dict[year + person.birth_year]:\n",
    "            max_life = year_dict[year + person.birth_year]\n",
    "            max_life_year = year + person.birth_year        \n",
    "        \n",
    "    \n",
    "    \n",
    "print(\"Most people are alive in\", max_life_year, \"With a total of\", max_life, \"people alive.\")        \n"
   ]
  },
  {
   "cell_type": "code",
   "execution_count": null,
   "metadata": {
    "collapsed": true
   },
   "outputs": [],
   "source": []
  }
 ],
 "metadata": {
  "anaconda-cloud": {},
  "kernelspec": {
   "display_name": "Python [conda root]",
   "language": "python",
   "name": "conda-root-py"
  },
  "language_info": {
   "codemirror_mode": {
    "name": "ipython",
    "version": 3
   },
   "file_extension": ".py",
   "mimetype": "text/x-python",
   "name": "python",
   "nbconvert_exporter": "python",
   "pygments_lexer": "ipython3",
   "version": "3.5.2"
  }
 },
 "nbformat": 4,
 "nbformat_minor": 1
}
