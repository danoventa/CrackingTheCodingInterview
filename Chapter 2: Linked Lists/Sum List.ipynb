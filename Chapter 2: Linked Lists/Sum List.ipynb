{
 "cells": [
  {
   "cell_type": "code",
   "execution_count": 3,
   "metadata": {
    "collapsed": false
   },
   "outputs": [],
   "source": [
    "class Node():\n",
    "    def __init__(self, data):\n",
    "        self.data = data\n",
    "        self.next = None\n",
    "        \n",
    "    def print_nodes(self):\n",
    "        no = self\n",
    "        \n",
    "        while no:\n",
    "            print(no.data)\n",
    "            no = no.next"
   ]
  },
  {
   "cell_type": "code",
   "execution_count": 21,
   "metadata": {
    "collapsed": false
   },
   "outputs": [],
   "source": [
    "def sum_list(h_a, h_b):\n",
    "    \n",
    "    number_a = h_a\n",
    "    number_b = h_b\n",
    "    \n",
    "    cursor_list = Node(0)\n",
    "    return_list = cursor_list\n",
    "    \n",
    "    carry_number = 0\n",
    "    \n",
    "    while number_a or number_b:\n",
    "        \n",
    "        if number_a:\n",
    "            n_a = number_a.data\n",
    "            number_a = number_a.next\n",
    "        else:\n",
    "            n_a = 0\n",
    "        \n",
    "        if number_b:\n",
    "            n_b = number_b.data\n",
    "            number_b = number_b.next\n",
    "        else:\n",
    "            n_b = 0\n",
    "            \n",
    "        r_data = (n_a + n_b + carry_number) % 10\n",
    "        carry_number = (n_a + n_b + carry_number) // 10\n",
    "        \n",
    "        cursor_list.next = Node(r_data)\n",
    "        cursor_list = cursor_list.next\n",
    "    \n",
    "    return return_list.next"
   ]
  },
  {
   "cell_type": "code",
   "execution_count": 22,
   "metadata": {
    "collapsed": true
   },
   "outputs": [],
   "source": [
    "a = Node(1)\n",
    "b = Node(5)\n",
    "a.next = b\n",
    "\n",
    "c = Node(3)\n",
    "b.next = c\n",
    "\n",
    "\n",
    "\n",
    "d = Node(4)\n",
    "e = Node(5)\n",
    "d.next = e\n",
    "\n",
    "f = Node(3)\n",
    "e.next = f\n",
    "\n",
    "g = Node(7)\n",
    "f.next = g"
   ]
  },
  {
   "cell_type": "code",
   "execution_count": 23,
   "metadata": {
    "collapsed": false
   },
   "outputs": [
    {
     "name": "stdout",
     "output_type": "stream",
     "text": [
      "1\n",
      "5\n",
      "3\n"
     ]
    }
   ],
   "source": [
    "a.print_nodes()"
   ]
  },
  {
   "cell_type": "code",
   "execution_count": 24,
   "metadata": {
    "collapsed": false
   },
   "outputs": [
    {
     "name": "stdout",
     "output_type": "stream",
     "text": [
      "4\n",
      "5\n",
      "3\n",
      "7\n"
     ]
    }
   ],
   "source": [
    "d.print_nodes()"
   ]
  },
  {
   "cell_type": "code",
   "execution_count": 25,
   "metadata": {
    "collapsed": false
   },
   "outputs": [
    {
     "name": "stdout",
     "output_type": "stream",
     "text": [
      "5\n",
      "0\n",
      "7\n",
      "7\n"
     ]
    }
   ],
   "source": [
    "sum_list(a, d).print_nodes()"
   ]
  },
  {
   "cell_type": "code",
   "execution_count": null,
   "metadata": {
    "collapsed": true
   },
   "outputs": [],
   "source": []
  }
 ],
 "metadata": {
  "anaconda-cloud": {},
  "kernelspec": {
   "display_name": "Python [conda root]",
   "language": "python",
   "name": "conda-root-py"
  },
  "language_info": {
   "codemirror_mode": {
    "name": "ipython",
    "version": 3
   },
   "file_extension": ".py",
   "mimetype": "text/x-python",
   "name": "python",
   "nbconvert_exporter": "python",
   "pygments_lexer": "ipython3",
   "version": "3.5.2"
  }
 },
 "nbformat": 4,
 "nbformat_minor": 1
}
