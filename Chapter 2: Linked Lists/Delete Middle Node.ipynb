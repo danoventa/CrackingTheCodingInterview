{
 "cells": [
  {
   "cell_type": "code",
   "execution_count": 21,
   "metadata": {
    "collapsed": true
   },
   "outputs": [],
   "source": [
    "class Node():\n",
    "    def __init__(self, data):\n",
    "        self.data = data\n",
    "        self.next = None\n",
    "        \n",
    "    def print_nodes(self):\n",
    "        no = self\n",
    "        \n",
    "        while no:\n",
    "            print(no.data)\n",
    "            no = no.next"
   ]
  },
  {
   "cell_type": "code",
   "execution_count": 25,
   "metadata": {
    "collapsed": false
   },
   "outputs": [],
   "source": [
    "def delete_mid_node(head):\n",
    "    lead = head\n",
    "    trail = head\n",
    "    \n",
    "    while lead:\n",
    "        if lead.next:\n",
    "            lead = lead.next.next \n",
    "        else:\n",
    "            lead = lead.next\n",
    "        if trail and lead:\n",
    "            trail = trail.next\n",
    "    if trail.next:    \n",
    "        trail.next = trail.next.next\n",
    "    return head"
   ]
  },
  {
   "cell_type": "code",
   "execution_count": 29,
   "metadata": {
    "collapsed": false
   },
   "outputs": [],
   "source": [
    "a = Node(1)\n",
    "\n",
    "b = Node(2)\n",
    "a.next = b\n",
    "\n",
    "c = Node(3)\n",
    "b.next = c\n",
    "\n",
    "d = Node(4)\n",
    "c.next = d\n",
    "\n",
    "e = Node(5)\n",
    "d.next = e\n",
    "\n",
    "f = Node(6)\n",
    "e.next = f\n",
    "\n",
    "g = Node(7)\n",
    "f.next = g"
   ]
  },
  {
   "cell_type": "code",
   "execution_count": 30,
   "metadata": {
    "collapsed": false
   },
   "outputs": [
    {
     "name": "stdout",
     "output_type": "stream",
     "text": [
      "1\n",
      "2\n",
      "3\n",
      "4\n",
      "5\n",
      "6\n",
      "7\n"
     ]
    }
   ],
   "source": [
    "a.print_nodes()\n"
   ]
  },
  {
   "cell_type": "code",
   "execution_count": 35,
   "metadata": {
    "collapsed": false
   },
   "outputs": [
    {
     "name": "stdout",
     "output_type": "stream",
     "text": [
      "1\n",
      "2\n"
     ]
    }
   ],
   "source": [
    "delete_mid_node(a).print_nodes()"
   ]
  },
  {
   "cell_type": "code",
   "execution_count": null,
   "metadata": {
    "collapsed": true
   },
   "outputs": [],
   "source": []
  },
  {
   "cell_type": "code",
   "execution_count": null,
   "metadata": {
    "collapsed": true
   },
   "outputs": [],
   "source": []
  }
 ],
 "metadata": {
  "anaconda-cloud": {},
  "kernelspec": {
   "display_name": "Python [conda root]",
   "language": "python",
   "name": "conda-root-py"
  },
  "language_info": {
   "codemirror_mode": {
    "name": "ipython",
    "version": 3
   },
   "file_extension": ".py",
   "mimetype": "text/x-python",
   "name": "python",
   "nbconvert_exporter": "python",
   "pygments_lexer": "ipython3",
   "version": "3.5.2"
  }
 },
 "nbformat": 4,
 "nbformat_minor": 1
}
