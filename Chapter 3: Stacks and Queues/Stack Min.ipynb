{
 "cells": [
  {
   "cell_type": "code",
   "execution_count": 65,
   "metadata": {
    "collapsed": true
   },
   "outputs": [],
   "source": [
    "class Stack:\n",
    "    def __init__(self):\n",
    "        self.stack = []\n",
    "        self.size = -1\n",
    "        self.mini = None\n",
    "    \n",
    "    def print_stuff(self):\n",
    "        print(\"Stack contains: \")\n",
    "        for i in self.stack:\n",
    "            print(i)\n",
    "        \n",
    "        print(\"Current size is: \", self.size)\n",
    "        print(\"Current min is: \", self.mini)\n",
    "    \n",
    "    def pop(self):\n",
    "        if self.size < 0:\n",
    "            return None\n",
    "        poppy = self.stack.pop(self.size)\n",
    "        self.size -= 1\n",
    "        \n",
    "        if self.size > 0 and poppy == self.mini:\n",
    "            mini = self.stack[0]\n",
    "            for n in self.stack:\n",
    "                if n < mini:\n",
    "                    mini = n\n",
    "            \n",
    "            self.mini = mini\n",
    "        return poppy\n",
    "    \n",
    "    def push(self, item):\n",
    "        self.size += 1\n",
    "        self.stack.append(item)\n",
    "        if self.mini == None or self.mini > item:\n",
    "            self.mini = item\n",
    "        \n",
    "    def mini(self):\n",
    "        self.mini\n",
    "        "
   ]
  },
  {
   "cell_type": "code",
   "execution_count": 66,
   "metadata": {
    "collapsed": true
   },
   "outputs": [],
   "source": [
    "mystack = Stack()"
   ]
  },
  {
   "cell_type": "code",
   "execution_count": 77,
   "metadata": {
    "collapsed": false
   },
   "outputs": [],
   "source": [
    "mystack.push(0)\n",
    "mystack.push(0)\n",
    "mystack.push(0)\n",
    "mystack.push(0)\n",
    "mystack.push(0)"
   ]
  },
  {
   "cell_type": "code",
   "execution_count": 78,
   "metadata": {
    "collapsed": false
   },
   "outputs": [
    {
     "name": "stdout",
     "output_type": "stream",
     "text": [
      "Stack contains: \n",
      "0\n",
      "0\n",
      "0\n",
      "0\n",
      "0\n",
      "Current size is:  4\n",
      "Current min is:  0\n"
     ]
    }
   ],
   "source": [
    "mystack.print_stuff()"
   ]
  },
  {
   "cell_type": "code",
   "execution_count": 79,
   "metadata": {
    "collapsed": false
   },
   "outputs": [
    {
     "data": {
      "text/plain": [
       "0"
      ]
     },
     "execution_count": 79,
     "metadata": {},
     "output_type": "execute_result"
    }
   ],
   "source": [
    "mystack.pop()"
   ]
  },
  {
   "cell_type": "code",
   "execution_count": 80,
   "metadata": {
    "collapsed": false
   },
   "outputs": [
    {
     "data": {
      "text/plain": [
       "0"
      ]
     },
     "execution_count": 80,
     "metadata": {},
     "output_type": "execute_result"
    }
   ],
   "source": [
    "mystack.pop()"
   ]
  },
  {
   "cell_type": "code",
   "execution_count": 81,
   "metadata": {
    "collapsed": false
   },
   "outputs": [
    {
     "name": "stdout",
     "output_type": "stream",
     "text": [
      "Stack contains: \n",
      "0\n",
      "0\n",
      "0\n",
      "Current size is:  2\n",
      "Current min is:  0\n"
     ]
    }
   ],
   "source": [
    "mystack.print_stuff()"
   ]
  },
  {
   "cell_type": "code",
   "execution_count": null,
   "metadata": {
    "collapsed": true
   },
   "outputs": [],
   "source": []
  }
 ],
 "metadata": {
  "kernelspec": {
   "display_name": "Python [conda root]",
   "language": "python",
   "name": "conda-root-py"
  },
  "language_info": {
   "codemirror_mode": {
    "name": "ipython",
    "version": 3
   },
   "file_extension": ".py",
   "mimetype": "text/x-python",
   "name": "python",
   "nbconvert_exporter": "python",
   "pygments_lexer": "ipython3",
   "version": "3.5.2"
  }
 },
 "nbformat": 4,
 "nbformat_minor": 1
}
