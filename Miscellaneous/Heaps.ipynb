{
 "cells": [
  {
   "cell_type": "code",
   "execution_count": null,
   "metadata": {
    "collapsed": false
   },
   "outputs": [],
   "source": [
    "# work on string manipulation. \n",
    "sl = list(\"this\")\n",
    "print(sl)"
   ]
  },
  {
   "cell_type": "code",
   "execution_count": null,
   "metadata": {
    "collapsed": false
   },
   "outputs": [],
   "source": [
    "for i in range(len(sl)):\n",
    "    if sl[i] == 'i':\n",
    "        sl[i] = ''\n",
    "    print(sl)\n",
    "    \n",
    "print(''.join(sl))"
   ]
  },
  {
   "cell_type": "code",
   "execution_count": null,
   "metadata": {
    "collapsed": false
   },
   "outputs": [],
   "source": [
    "52 / 74"
   ]
  },
  {
   "cell_type": "code",
   "execution_count": null,
   "metadata": {
    "collapsed": false
   },
   "outputs": [],
   "source": [
    "(704 % 52) / ((704 % 52) * (52 % 704))"
   ]
  },
  {
   "cell_type": "code",
   "execution_count": null,
   "metadata": {
    "collapsed": false
   },
   "outputs": [],
   "source": [
    "def lengthOfLastWord(A):\n",
    "        leng = len(A) - 1\n",
    "        if leng == -1:\n",
    "            return 0\n",
    "        counter = 0\n",
    "        i = leng\n",
    "        while i >= 0:\n",
    "            if A[i] == ' ':\n",
    "                i -= 1\n",
    "            else:\n",
    "                break\n",
    "            \n",
    "        while i >= 0:\n",
    "            if A[i] != ' ':\n",
    "                counter += 1\n",
    "                i -= 1\n",
    "            else:\n",
    "                break\n",
    "        return counter"
   ]
  },
  {
   "cell_type": "code",
   "execution_count": null,
   "metadata": {
    "collapsed": false
   },
   "outputs": [],
   "source": [
    "print(lengthOfLastWord(\"de\"))"
   ]
  },
  {
   "cell_type": "code",
   "execution_count": null,
   "metadata": {
    "collapsed": false
   },
   "outputs": [],
   "source": [
    "4 % 4"
   ]
  },
  {
   "cell_type": "code",
   "execution_count": null,
   "metadata": {
    "collapsed": false
   },
   "outputs": [],
   "source": [
    "200 % 15"
   ]
  },
  {
   "cell_type": "code",
   "execution_count": null,
   "metadata": {
    "collapsed": false
   },
   "outputs": [],
   "source": [
    "52 % 28"
   ]
  },
  {
   "cell_type": "code",
   "execution_count": null,
   "metadata": {
    "collapsed": false
   },
   "outputs": [],
   "source": [
    "28 % 24"
   ]
  },
  {
   "cell_type": "code",
   "execution_count": null,
   "metadata": {
    "collapsed": false
   },
   "outputs": [],
   "source": [
    "24 % 28"
   ]
  },
  {
   "cell_type": "code",
   "execution_count": null,
   "metadata": {
    "collapsed": false
   },
   "outputs": [],
   "source": [
    "4 % 24"
   ]
  },
  {
   "cell_type": "code",
   "execution_count": null,
   "metadata": {
    "collapsed": false
   },
   "outputs": [],
   "source": [
    "24 % 4"
   ]
  },
  {
   "cell_type": "code",
   "execution_count": null,
   "metadata": {
    "collapsed": false
   },
   "outputs": [],
   "source": [
    "0 % 4"
   ]
  },
  {
   "cell_type": "code",
   "execution_count": null,
   "metadata": {
    "collapsed": false
   },
   "outputs": [],
   "source": [
    "import math"
   ]
  },
  {
   "cell_type": "code",
   "execution_count": null,
   "metadata": {
    "collapsed": false
   },
   "outputs": [],
   "source": [
    "math.gcd(21, 9)"
   ]
  },
  {
   "cell_type": "code",
   "execution_count": null,
   "metadata": {
    "collapsed": false
   },
   "outputs": [],
   "source": [
    "1064.7 * 12"
   ]
  },
  {
   "cell_type": "code",
   "execution_count": 3,
   "metadata": {
    "collapsed": false
   },
   "outputs": [],
   "source": [
    "def coverPoints(X, Y):\n",
    "    i = 0\n",
    "    size = X[i]\n",
    "    \n",
    "    if size < 2:\n",
    "        return 0;\n",
    "    i += 1;\n",
    "\n",
    "    x = X[i]\n",
    "    y = Y[i]\n",
    "\n",
    "    i += 1\n",
    "    counter = 0\n",
    "    while i <= size:\n",
    "\n",
    "        x_r = x - X[i]\n",
    "        y_r = y - Y[i]\n",
    "\n",
    "        x = X[i]\n",
    "        y = Y[i]\n",
    "\n",
    "        x_r = abs(x_r)\n",
    "        y_r = abs(y_r)\n",
    "        if x_r > y_r:\n",
    "            counter += x_r\n",
    "        else:\n",
    "            counter += y_r\n",
    "        i += 1    \n",
    "            \n",
    "        \n",
    "\n",
    "    return counter\n",
    "\n",
    "\n",
    "def abs(num):\n",
    "    if num < 0:\n",
    "        num *= -1\n",
    "    return num"
   ]
  },
  {
   "cell_type": "code",
   "execution_count": 4,
   "metadata": {
    "collapsed": false
   },
   "outputs": [
    {
     "name": "stdout",
     "output_type": "stream",
     "text": [
      "2\n",
      "0\n",
      "0\n",
      "2\n",
      "X:  -13 Y:  -9\n",
      "X_R  6 Y_R:  10\n"
     ]
    },
    {
     "data": {
      "text/plain": [
       "10"
      ]
     },
     "execution_count": 4,
     "metadata": {},
     "output_type": "execute_result"
    }
   ],
   "source": [
    "coverPoints([2, -7, -13], [2, 1, -9])"
   ]
  },
  {
   "cell_type": "code",
   "execution_count": null,
   "metadata": {
    "collapsed": true
   },
   "outputs": [],
   "source": []
  }
 ],
 "metadata": {
  "anaconda-cloud": {},
  "kernelspec": {
   "display_name": "Python [conda root]",
   "language": "python",
   "name": "conda-root-py"
  },
  "language_info": {
   "codemirror_mode": {
    "name": "ipython",
    "version": 3
   },
   "file_extension": ".py",
   "mimetype": "text/x-python",
   "name": "python",
   "nbconvert_exporter": "python",
   "pygments_lexer": "ipython3",
   "version": "3.5.2"
  }
 },
 "nbformat": 4,
 "nbformat_minor": 1
}
