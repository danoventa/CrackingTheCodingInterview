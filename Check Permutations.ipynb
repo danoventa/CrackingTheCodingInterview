{
 "cells": [
  {
   "cell_type": "code",
   "execution_count": 1,
   "metadata": {
    "collapsed": true
   },
   "outputs": [],
   "source": [
    "# case sensitive\n",
    "# white spaces do matter\n",
    "\n",
    "from collections import defaultdict\n",
    "\n",
    "def check_permutation(string_a, string_b):\n",
    "    \n",
    "    if len(string_a) != len(string_b):\n",
    "        return False\n",
    "    \n",
    "    dict_a = defaultdict(int)\n",
    "    dict_b = defaultdict(int)\n",
    "    \n",
    "    for letter in string_a:\n",
    "        dict_a[letter] += 1\n",
    "        \n",
    "    for letter in string_b:\n",
    "        dict_b[letter] += 1\n",
    "        if dict_b[letter] > dict_a[letter]:\n",
    "            return False\n",
    "        \n",
    "    return True"
   ]
  },
  {
   "cell_type": "code",
   "execution_count": 2,
   "metadata": {
    "collapsed": false
   },
   "outputs": [
    {
     "data": {
      "text/plain": [
       "True"
      ]
     },
     "execution_count": 2,
     "metadata": {},
     "output_type": "execute_result"
    }
   ],
   "source": [
    "string_a = 'dog'\n",
    "string_b = 'god'\n",
    "check_permutation(string_a, string_b)"
   ]
  },
  {
   "cell_type": "code",
   "execution_count": 4,
   "metadata": {
    "collapsed": false
   },
   "outputs": [
    {
     "data": {
      "text/plain": [
       "False"
      ]
     },
     "execution_count": 4,
     "metadata": {},
     "output_type": "execute_result"
    }
   ],
   "source": [
    "string_a = 'Dog'\n",
    "string_b = 'God'\n",
    "check_permutation(string_a, string_b)"
   ]
  },
  {
   "cell_type": "code",
   "execution_count": 5,
   "metadata": {
    "collapsed": false
   },
   "outputs": [
    {
     "data": {
      "text/plain": [
       "False"
      ]
     },
     "execution_count": 5,
     "metadata": {},
     "output_type": "execute_result"
    }
   ],
   "source": [
    "string_a = 'abrakadabra'\n",
    "string_b = 'alakasam'\n",
    "check_permutation(string_a, string_b)"
   ]
  },
  {
   "cell_type": "code",
   "execution_count": 6,
   "metadata": {
    "collapsed": false
   },
   "outputs": [
    {
     "data": {
      "text/plain": [
       "True"
      ]
     },
     "execution_count": 6,
     "metadata": {},
     "output_type": "execute_result"
    }
   ],
   "source": [
    "string_a = 'doG'\n",
    "string_b = 'God'\n",
    "check_permutation(string_a, string_b)"
   ]
  },
  {
   "cell_type": "code",
   "execution_count": 7,
   "metadata": {
    "collapsed": false
   },
   "outputs": [
    {
     "data": {
      "text/plain": [
       "True"
      ]
     },
     "execution_count": 7,
     "metadata": {},
     "output_type": "execute_result"
    }
   ],
   "source": [
    "string_a = '12345'\n",
    "string_b = '54321'\n",
    "check_permutation(string_a, string_b)"
   ]
  },
  {
   "cell_type": "code",
   "execution_count": 8,
   "metadata": {
    "collapsed": false
   },
   "outputs": [
    {
     "data": {
      "text/plain": [
       "True"
      ]
     },
     "execution_count": 8,
     "metadata": {},
     "output_type": "execute_result"
    }
   ],
   "source": [
    "string_a = 'This and That'\n",
    "string_b = 'That and This'\n",
    "check_permutation(string_a, string_b)"
   ]
  },
  {
   "cell_type": "code",
   "execution_count": 9,
   "metadata": {
    "collapsed": false
   },
   "outputs": [
    {
     "data": {
      "text/plain": [
       "False"
      ]
     },
     "execution_count": 9,
     "metadata": {},
     "output_type": "execute_result"
    }
   ],
   "source": [
    "string_a = 'This that and the other'\n",
    "string_b = 'That this and the other '\n",
    "check_permutation(string_a, string_b)"
   ]
  },
  {
   "cell_type": "code",
   "execution_count": 10,
   "metadata": {
    "collapsed": true
   },
   "outputs": [],
   "source": [
    "# Q: what if white spaces didn't matter? \n",
    "# A: strip the string of white spaces"
   ]
  },
  {
   "cell_type": "code",
   "execution_count": 20,
   "metadata": {
    "collapsed": true
   },
   "outputs": [],
   "source": [
    "def check_permutation_white_spaces_are_ok(string_a, string_b):\n",
    "    \n",
    "    string_a = string_a.replace(\" \", \"\")\n",
    "    string_b = string_b.replace(\" \", \"\")\n",
    "    \n",
    "    if len(string_a) != len(string_b):\n",
    "        return False\n",
    "    \n",
    "    dict_a = defaultdict(int)\n",
    "    dict_b = defaultdict(int)\n",
    "    \n",
    "    for letter in string_a:\n",
    "        dict_a[letter] += 1\n",
    "        \n",
    "    for letter in string_b:\n",
    "        dict_b[letter] += 1\n",
    "        if dict_b[letter] > dict_a[letter]:\n",
    "            return False\n",
    "        \n",
    "    return True"
   ]
  },
  {
   "cell_type": "code",
   "execution_count": 22,
   "metadata": {
    "collapsed": false
   },
   "outputs": [
    {
     "data": {
      "text/plain": [
       "True"
      ]
     },
     "execution_count": 22,
     "metadata": {},
     "output_type": "execute_result"
    }
   ],
   "source": [
    "string_a = 'This  that and   the other'\n",
    "string_b = 'That  this  and the other       '\n",
    "check_permutation_white_spaces_are_ok(string_a, string_b)"
   ]
  },
  {
   "cell_type": "code",
   "execution_count": 23,
   "metadata": {
    "collapsed": true
   },
   "outputs": [],
   "source": [
    "# Ignoring casing?\n",
    "# easy peasy, turn them all lower case or upper case!"
   ]
  },
  {
   "cell_type": "code",
   "execution_count": 25,
   "metadata": {
    "collapsed": true
   },
   "outputs": [],
   "source": [
    "def check_permutation_ignore_case(string_a, string_b):\n",
    "    \n",
    "    if len(string_a) != len(string_b):\n",
    "        return False\n",
    "    \n",
    "    string_a = string_a.lower()\n",
    "    string_b = string_b.lower()\n",
    "    \n",
    "    dict_a = defaultdict(int)\n",
    "    dict_b = defaultdict(int)\n",
    "    \n",
    "    for letter in string_a:\n",
    "        dict_a[letter] += 1\n",
    "        \n",
    "    for letter in string_b:\n",
    "        dict_b[letter] += 1\n",
    "        if dict_b[letter] > dict_a[letter]:\n",
    "            return False\n",
    "        \n",
    "    return True"
   ]
  },
  {
   "cell_type": "code",
   "execution_count": 26,
   "metadata": {
    "collapsed": false
   },
   "outputs": [
    {
     "data": {
      "text/plain": [
       "True"
      ]
     },
     "execution_count": 26,
     "metadata": {},
     "output_type": "execute_result"
    }
   ],
   "source": [
    "string_a = 'Dog'\n",
    "string_b = 'GoD'\n",
    "check_permutation_ignore_case(string_a, string_b)"
   ]
  },
  {
   "cell_type": "code",
   "execution_count": null,
   "metadata": {
    "collapsed": true
   },
   "outputs": [],
   "source": [
    "# Ignore case and whitespaces would combine both of these methods. "
   ]
  }
 ],
 "metadata": {
  "kernelspec": {
   "display_name": "Python [Root]",
   "language": "python",
   "name": "Python [Root]"
  },
  "language_info": {
   "codemirror_mode": {
    "name": "ipython",
    "version": 3
   },
   "file_extension": ".py",
   "mimetype": "text/x-python",
   "name": "python",
   "nbconvert_exporter": "python",
   "pygments_lexer": "ipython3",
   "version": "3.5.2"
  }
 },
 "nbformat": 4,
 "nbformat_minor": 0
}
