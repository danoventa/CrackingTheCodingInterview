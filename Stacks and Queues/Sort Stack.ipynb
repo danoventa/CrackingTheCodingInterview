{
 "cells": [
  {
   "cell_type": "code",
   "execution_count": null,
   "metadata": {
    "collapsed": true
   },
   "outputs": [],
   "source": [
    "# Sort stack with temp stack (game) "
   ]
  },
  {
   "cell_type": "code",
   "execution_count": 28,
   "metadata": {
    "collapsed": false
   },
   "outputs": [],
   "source": [
    "class Stack:\n",
    "    \n",
    "    def __init__(self):\n",
    "        self.stack = []\n",
    "        \n",
    "    def pop(self):\n",
    "        return self.stack.pop()\n",
    "    \n",
    "    def push(self, val):\n",
    "        self.sort(val)\n",
    "    \n",
    "    def peek(self):\n",
    "        ret = None\n",
    "        leng = len(self.stack)\n",
    "        if leng > 0:\n",
    "            ret = self.stack[leng - 1]\n",
    "        return ret\n",
    "    \n",
    "    def isEmpty(self):\n",
    "        ret = False\n",
    "        if len(self.stack) == 0:\n",
    "            ret = True\n",
    "        \n",
    "        return ret\n",
    "        \n",
    "    def sort(self, val):\n",
    "        temps = []\n",
    "        fun = True\n",
    "        while fun:\n",
    "            if self.peek() == None:\n",
    "                self.stack.append(val)\n",
    "                fun = False\n",
    "            elif self.peek() > val:\n",
    "                self.stack.append(val)\n",
    "                fun = False\n",
    "            else:\n",
    "                temps.append(self.stack.pop())\n",
    "                \n",
    "        for i in range(len(temps)):\n",
    "            self.stack.append(temps.pop())\n",
    "        "
   ]
  },
  {
   "cell_type": "code",
   "execution_count": 29,
   "metadata": {
    "collapsed": true
   },
   "outputs": [],
   "source": [
    "staq = Stack()"
   ]
  },
  {
   "cell_type": "code",
   "execution_count": 33,
   "metadata": {
    "collapsed": false
   },
   "outputs": [],
   "source": [
    "staq.push(-1)\n",
    "staq.push(4)\n",
    "staq.push(3)\n",
    "staq.push(3)\n",
    "staq.push(2)\n",
    "staq.push(-2)\n",
    "staq.push(0)\n",
    "staq.push(5)\n",
    "staq.push(9)\n",
    "staq.push(4)\n",
    "staq.push(1)"
   ]
  },
  {
   "cell_type": "code",
   "execution_count": 40,
   "metadata": {
    "collapsed": false
   },
   "outputs": [
    {
     "data": {
      "text/plain": [
       "[]"
      ]
     },
     "execution_count": 40,
     "metadata": {},
     "output_type": "execute_result"
    }
   ],
   "source": [
    "staq.stack"
   ]
  },
  {
   "cell_type": "code",
   "execution_count": 39,
   "metadata": {
    "collapsed": false
   },
   "outputs": [
    {
     "name": "stdout",
     "output_type": "stream",
     "text": [
      "0\n",
      "1\n",
      "2\n",
      "3\n",
      "3\n",
      "3\n",
      "3\n",
      "3\n",
      "3\n",
      "3\n",
      "3\n",
      "3\n",
      "3\n",
      "3\n",
      "3\n",
      "3\n",
      "3\n",
      "4\n",
      "4\n",
      "5\n",
      "9\n"
     ]
    }
   ],
   "source": [
    "for i in range(len(staq.stack)):\n",
    "    print(staq.pop())"
   ]
  },
  {
   "cell_type": "code",
   "execution_count": null,
   "metadata": {
    "collapsed": true
   },
   "outputs": [],
   "source": []
  }
 ],
 "metadata": {
  "anaconda-cloud": {},
  "kernelspec": {
   "display_name": "Python [conda root]",
   "language": "python",
   "name": "conda-root-py"
  },
  "language_info": {
   "codemirror_mode": {
    "name": "ipython",
    "version": 3
   },
   "file_extension": ".py",
   "mimetype": "text/x-python",
   "name": "python",
   "nbconvert_exporter": "python",
   "pygments_lexer": "ipython3",
   "version": "3.5.2"
  }
 },
 "nbformat": 4,
 "nbformat_minor": 1
}
