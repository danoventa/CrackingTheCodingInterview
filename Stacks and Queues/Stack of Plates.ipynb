{
 "cells": [
  {
   "cell_type": "code",
   "execution_count": 181,
   "metadata": {
    "collapsed": false
   },
   "outputs": [],
   "source": [
    "class Stack:\n",
    "    def __init__(self):\n",
    "        self.stack = []\n",
    "        self.size = -1\n",
    "        self.mini = None\n",
    "    \n",
    "    def print_stuff(self):\n",
    "        print(\"Stack contains: \")\n",
    "        for i in self.stack:\n",
    "            print(i)\n",
    "        \n",
    "        print(\"Current size is: \", self.size)\n",
    "        print(\"Current min is: \", self.mini)\n",
    "    \n",
    "    def pop(self):\n",
    "        if self.size < 0:\n",
    "            return None\n",
    "        poppy = self.stack.pop(self.size)\n",
    "        self.size -= 1\n",
    "        \n",
    "        if self.size > 0 and poppy == self.mini:\n",
    "            mini = self.stack[0]\n",
    "            for n in self.stack:\n",
    "                if n < mini:\n",
    "                    mini = n\n",
    "            \n",
    "            self.mini = mini\n",
    "        return poppy\n",
    "    \n",
    "    def push(self, item):\n",
    "        self.size += 1\n",
    "        self.stack.append(item)\n",
    "        if self.mini == None or self.mini > item:\n",
    "            self.mini = item\n",
    "        \n",
    "    def mini(self):\n",
    "        self.mini\n",
    "\n",
    "class SetOfStacks:\n",
    "    \n",
    "    def __init__(self, stack_max):\n",
    "        self.stack_set = []\n",
    "        self.stack_set.append(Stack())\n",
    "        self.stack_max = stack_max\n",
    "        self.size = -1\n",
    "        \n",
    "    def push(self, item):\n",
    "        self.size += 1\n",
    "        set_index = self.size // self.stack_max\n",
    "        stack_index = self.size % self.stack_max\n",
    "        \n",
    "        if set_index > 0 and stack_index == 0:\n",
    "            self.stack_set.append(Stack())\n",
    "            self.stack_set[set_index].stack.append(item)\n",
    "           \n",
    "        else: \n",
    "            self.stack_set[set_index].stack.append(item)\n",
    "     \n",
    "    def pop(self):\n",
    "        return_item = None\n",
    "        \n",
    "        if self.size > -1:\n",
    "            set_index = self.size //self.stack_max\n",
    "            stack_index = self.size % self.stack_max\n",
    "            self.size -= 1\n",
    "        \n",
    "            return_item = self.stack_set[set_index].stack.pop()\n",
    "        \n",
    "            if stack_index == 0:\n",
    "                self.stack_set[set_index].pop()\n",
    "        \n",
    "        return return_item\n",
    "\n",
    "    def debug_print(self):\n",
    "        for number in range(self.size + 1):\n",
    "\n",
    "            set_index = number // self.stack_max\n",
    "            stack_index = number % self.stack_max\n",
    "            \n",
    "            print(self.stack_set[set_index].stack[stack_index])\n",
    "        \n",
    "        \n"
   ]
  },
  {
   "cell_type": "code",
   "execution_count": 182,
   "metadata": {
    "collapsed": false
   },
   "outputs": [],
   "source": [
    "setOfStacks = SetOfStacks(4)"
   ]
  },
  {
   "cell_type": "code",
   "execution_count": 183,
   "metadata": {
    "collapsed": false
   },
   "outputs": [],
   "source": [
    "setOfStacks.pop()"
   ]
  },
  {
   "cell_type": "code",
   "execution_count": 184,
   "metadata": {
    "collapsed": false
   },
   "outputs": [],
   "source": [
    "setOfStacks.debug_print()"
   ]
  },
  {
   "cell_type": "code",
   "execution_count": null,
   "metadata": {
    "collapsed": true
   },
   "outputs": [],
   "source": []
  },
  {
   "cell_type": "code",
   "execution_count": null,
   "metadata": {
    "collapsed": true
   },
   "outputs": [],
   "source": []
  }
 ],
 "metadata": {
  "anaconda-cloud": {},
  "kernelspec": {
   "display_name": "Python [conda root]",
   "language": "python",
   "name": "conda-root-py"
  },
  "language_info": {
   "codemirror_mode": {
    "name": "ipython",
    "version": 3
   },
   "file_extension": ".py",
   "mimetype": "text/x-python",
   "name": "python",
   "nbconvert_exporter": "python",
   "pygments_lexer": "ipython3",
   "version": "3.5.2"
  }
 },
 "nbformat": 4,
 "nbformat_minor": 1
}
