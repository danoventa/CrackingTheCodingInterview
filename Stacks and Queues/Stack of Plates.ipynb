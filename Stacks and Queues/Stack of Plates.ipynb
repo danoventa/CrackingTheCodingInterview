{
 "cells": [
  {
   "cell_type": "code",
   "execution_count": 257,
   "metadata": {
    "collapsed": false
   },
   "outputs": [],
   "source": [
    "class Stack:\n",
    "    def __init__(self):\n",
    "        self.stack = []\n",
    "        self.size = -1\n",
    "        self.mini = None\n",
    "    \n",
    "    def print_stuff(self):\n",
    "        print(\"Stack contains: \")\n",
    "        for i in self.stack:\n",
    "            print(i)\n",
    "        \n",
    "        print(\"Current size is: \", self.size)\n",
    "        print(\"Current min is: \", self.mini)\n",
    "    \n",
    "    def pop(self):\n",
    "        if self.size < 0:\n",
    "            return None\n",
    "        poppy = self.stack.pop(self.size)\n",
    "        self.size -= 1\n",
    "        \n",
    "        if self.size > 0 and poppy == self.mini:\n",
    "            mini = self.stack[0]\n",
    "            for n in self.stack:\n",
    "                if n < mini:\n",
    "                    mini = n\n",
    "            \n",
    "            self.mini = mini\n",
    "        return poppy\n",
    "    \n",
    "    def popAt(self, index):\n",
    "        return self.stack.pop(index)\n",
    "    \n",
    "    def push(self, item):\n",
    "        self.size += 1\n",
    "        self.stack.append(item)\n",
    "        if self.mini == None or self.mini > item:\n",
    "            self.mini = item\n",
    "        \n",
    "    def mini(self):\n",
    "        self.mini\n",
    "\n",
    "class SetOfStacks:\n",
    "    \n",
    "    def __init__(self, stack_max):\n",
    "        self.stack_set = []\n",
    "        self.stack_set.append(Stack())\n",
    "        self.stack_max = stack_max\n",
    "        self.size = -1\n",
    "        \n",
    "    def push(self, item):\n",
    "        self.size += 1\n",
    "        set_index = self.size // self.stack_max\n",
    "        stack_index = self.size % self.stack_max\n",
    "        \n",
    "        if set_index > 0 and stack_index == 0:\n",
    "            self.stack_set.append(Stack())\n",
    "            self.stack_set[set_index].stack.append(item)\n",
    "           \n",
    "        else: \n",
    "            self.stack_set[set_index].stack.append(item)\n",
    "     \n",
    "    def pop(self):\n",
    "        return_item = None\n",
    "        \n",
    "        if self.size > -1:\n",
    "            set_index = self.size //self.stack_max\n",
    "            stack_index = self.size % self.stack_max\n",
    "            self.size -= 1\n",
    "        \n",
    "            return_item = self.stack_set[set_index].stack.pop()\n",
    "        \n",
    "            if stack_index == 0:\n",
    "                self.stack_set[set_index].pop()\n",
    "        \n",
    "        return return_item\n",
    "    \n",
    "    def pop_at(self, index):\n",
    "        return_item = None\n",
    "        set_pop = index // self.stack_max\n",
    "        stack_pop = index // self.stack_max\n",
    "        \n",
    "        if self.size > -1 and index <= self.size:\n",
    "            self.size -= 1\n",
    "            \n",
    "            temp_arr = []\n",
    "            return_item = self.stack_set[set_pop].stack.pop(stack_pop)\n",
    "            index += 1\n",
    "            switched = False\n",
    "\n",
    "            for i in range(index + 1, self.size + 1):\n",
    "                \n",
    "                if i % self.stack_max == 0:\n",
    "                    switched = True\n",
    "                else:\n",
    "                    switched = False\n",
    "                \n",
    "                if not switched:\n",
    "                    temp_arr.append(self.stack_set[index//self.stack_max].stack.pop(index%self.stack_max))\n",
    "                else:\n",
    "                    temp_arr.append(self.stack_set[index//self.stack_max + 1].stack.pop(0))\n",
    "            \n",
    "            for item in temp_arr:\n",
    "                self.push(item)\n",
    "            \n",
    "        return return_item\n",
    "    \n",
    "    def debug_print(self):\n",
    "        for number in range(self.size + 1):\n",
    "\n",
    "            set_index = number // self.stack_max\n",
    "            stack_index = number % self.stack_max\n",
    "            \n",
    "            print(self.stack_set[set_index].stack[stack_index])"
   ]
  },
  {
   "cell_type": "code",
   "execution_count": 258,
   "metadata": {
    "collapsed": false
   },
   "outputs": [],
   "source": [
    "setOfStacks = SetOfStacks(4)"
   ]
  },
  {
   "cell_type": "code",
   "execution_count": 259,
   "metadata": {
    "collapsed": false
   },
   "outputs": [],
   "source": [
    "for i in range(10):\n",
    "    setOfStacks.push(i)"
   ]
  },
  {
   "cell_type": "code",
   "execution_count": 260,
   "metadata": {
    "collapsed": false
   },
   "outputs": [
    {
     "name": "stdout",
     "output_type": "stream",
     "text": [
      "0\n",
      "1\n",
      "2\n",
      "3\n",
      "4\n",
      "5\n",
      "6\n",
      "7\n",
      "8\n",
      "9\n"
     ]
    }
   ],
   "source": [
    "setOfStacks.debug_print()"
   ]
  },
  {
   "cell_type": "code",
   "execution_count": 261,
   "metadata": {
    "collapsed": false
   },
   "outputs": [
    {
     "ename": "TypeError",
     "evalue": "pop() takes 1 positional argument but 2 were given",
     "output_type": "error",
     "traceback": [
      "\u001b[0;31m---------------------------------------------------------------------------\u001b[0m",
      "\u001b[0;31mTypeError\u001b[0m                                 Traceback (most recent call last)",
      "\u001b[0;32m<ipython-input-261-c5126b6acbae>\u001b[0m in \u001b[0;36m<module>\u001b[0;34m()\u001b[0m\n\u001b[0;32m----> 1\u001b[0;31m \u001b[0msetOfStacks\u001b[0m\u001b[0;34m.\u001b[0m\u001b[0mpop\u001b[0m\u001b[0;34m(\u001b[0m\u001b[0;36m3\u001b[0m\u001b[0;34m)\u001b[0m\u001b[0;34m\u001b[0m\u001b[0m\n\u001b[0m",
      "\u001b[0;31mTypeError\u001b[0m: pop() takes 1 positional argument but 2 were given"
     ]
    }
   ],
   "source": [
    "setOfStacks.pop(3)"
   ]
  },
  {
   "cell_type": "code",
   "execution_count": null,
   "metadata": {
    "collapsed": true
   },
   "outputs": [],
   "source": []
  },
  {
   "cell_type": "code",
   "execution_count": null,
   "metadata": {
    "collapsed": true
   },
   "outputs": [],
   "source": []
  }
 ],
 "metadata": {
  "anaconda-cloud": {},
  "kernelspec": {
   "display_name": "Python [conda root]",
   "language": "python",
   "name": "conda-root-py"
  },
  "language_info": {
   "codemirror_mode": {
    "name": "ipython",
    "version": 3
   },
   "file_extension": ".py",
   "mimetype": "text/x-python",
   "name": "python",
   "nbconvert_exporter": "python",
   "pygments_lexer": "ipython3",
   "version": "3.5.2"
  }
 },
 "nbformat": 4,
 "nbformat_minor": 1
}
