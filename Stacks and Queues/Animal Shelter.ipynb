{
 "cells": [
  {
   "cell_type": "code",
   "execution_count": 1,
   "metadata": {
    "collapsed": true
   },
   "outputs": [],
   "source": [
    "# first in first out basis. Adopt the oldest!\n",
    "# enqueue, dequeueAny, dequeueDog, dequeueCat, linked list may be used "
   ]
  },
  {
   "cell_type": "code",
   "execution_count": 20,
   "metadata": {
    "collapsed": true
   },
   "outputs": [],
   "source": [
    "from collections import defaultdict"
   ]
  },
  {
   "cell_type": "code",
   "execution_count": 52,
   "metadata": {
    "collapsed": true
   },
   "outputs": [],
   "source": [
    "class AnimalShelter:\n",
    "    \n",
    "    def __init__(self):\n",
    "        self.shelter = defaultdict(str)\n",
    "        self.shelter['cat'] = []\n",
    "        self.shelter['dog'] = []\n",
    "        \n",
    "    def abandon(self, typ, animal):\n",
    "        self.shelter[typ] = [animal] + self.shelter[typ]\n",
    "        \n",
    "    def adopt(self, typ):\n",
    "        return self.shelter[typ].pop()"
   ]
  },
  {
   "cell_type": "code",
   "execution_count": 53,
   "metadata": {
    "collapsed": false
   },
   "outputs": [],
   "source": [
    "shelter = AnimalShelter()\n",
    "cat = 'cat'\n",
    "dog = 'dog'"
   ]
  },
  {
   "cell_type": "code",
   "execution_count": 54,
   "metadata": {
    "collapsed": false
   },
   "outputs": [],
   "source": [
    "shelter.abandon(dog, 'saddy')\n",
    "shelter.abandon(cat, 'abandonded-ed')\n",
    "shelter.abandon(dog, 'pouvre')\n",
    "shelter.abandon(cat, 'lost')\n",
    "shelter.abandon(dog, 'unwanted')\n",
    "shelter.abandon(cat, 'dirty')"
   ]
  },
  {
   "cell_type": "code",
   "execution_count": 58,
   "metadata": {
    "collapsed": false
   },
   "outputs": [
    {
     "name": "stdout",
     "output_type": "stream",
     "text": [
      "defaultdict(<class 'str'>, {'cat': [], 'dog': []})\n"
     ]
    }
   ],
   "source": [
    "print(shelter.shelter)"
   ]
  },
  {
   "cell_type": "code",
   "execution_count": 56,
   "metadata": {
    "collapsed": false
   },
   "outputs": [
    {
     "name": "stdout",
     "output_type": "stream",
     "text": [
      "cat\n",
      "dog\n"
     ]
    }
   ],
   "source": [
    "for dic in shelter.shelter:\n",
    "    print(dic)"
   ]
  },
  {
   "cell_type": "code",
   "execution_count": 57,
   "metadata": {
    "collapsed": false
   },
   "outputs": [
    {
     "name": "stdout",
     "output_type": "stream",
     "text": [
      "cat\n",
      "abandonded-ed\n",
      "\n",
      "dog\n",
      "saddy\n",
      "\n",
      "cat\n",
      "lost\n",
      "\n",
      "dog\n",
      "pouvre\n",
      "\n",
      "cat\n",
      "dirty\n",
      "\n",
      "dog\n",
      "unwanted\n",
      "\n"
     ]
    }
   ],
   "source": [
    "for item in range(6):\n",
    "    if item % 2 == 0:\n",
    "        typ = cat\n",
    "    else:\n",
    "        typ = dog\n",
    "    \n",
    "    print(typ)\n",
    "    print(shelter.adopt(typ))\n",
    "    print()\n",
    "    "
   ]
  },
  {
   "cell_type": "code",
   "execution_count": null,
   "metadata": {
    "collapsed": true
   },
   "outputs": [],
   "source": []
  }
 ],
 "metadata": {
  "anaconda-cloud": {},
  "kernelspec": {
   "display_name": "Python [conda root]",
   "language": "python",
   "name": "conda-root-py"
  },
  "language_info": {
   "codemirror_mode": {
    "name": "ipython",
    "version": 3
   },
   "file_extension": ".py",
   "mimetype": "text/x-python",
   "name": "python",
   "nbconvert_exporter": "python",
   "pygments_lexer": "ipython3",
   "version": "3.5.2"
  }
 },
 "nbformat": 4,
 "nbformat_minor": 1
}
