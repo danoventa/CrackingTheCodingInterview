{
 "nbformat_minor": 0,
 "cells": [
  {
   "cell_type": "code",
   "execution_count": 1,
   "metadata": {
    "collapsed": false
   },
   "outputs": [
    {
     "data": {
      "application/vnd.plotly.v1+json": {
       "data": [
        {
         "x": [
          1999,
          2000,
          2001,
          2002
         ],
         "y": [
          10,
          15,
          13,
          17
         ],
         "type": "scatter"
        }
       ]
      }
     },
     "metadata": {},
     "output_type": "display_data"
    }
   ],
   "source": [
    "library(IRdisplay)\n",
    "\n",
    "data <- list(list(x=c(1999, 2000, 2001, 2002), y=c(10, 15, 13, 17), type='scatter'))\n",
    "figure <- list(data=data)\n",
    "\n",
    "mimebundle <- list('application/vnd.plotly.v1+json'=figure)\n",
    "#mimebundle[[]] <- figure\n",
    "IRdisplay::publish_mimebundle(mimebundle)"
   ]
  }
 ],
 "metadata": {
  "kernel_info": {
   "name": "ir"
  },
  "kernelspec": {
   "name": "ir",
   "language": "R",
   "display_name": "R"
  },
  "language_info": {
   "name": "R",
   "codemirror_mode": "r",
   "pygments_lexer": "r",
   "mimetype": "text/x-r-source",
   "file_extension": ".r",
   "version": "3.3.1"
  }
 },
 "nbformat": 4
}
